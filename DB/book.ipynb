{
  "cells": [
    {
      "cell_type": "code",
      "execution_count": null,
      "metadata": {
        "colab": {
          "base_uri": "https://localhost:8080/"
        },
        "id": "_NbGiD7ZKoGJ",
        "outputId": "3c269a86-75a1-4918-deb1-0682a700129e"
      },
      "outputs": [
        {
          "name": "stderr",
          "output_type": "stream",
          "text": [
            "/usr/local/lib/python3.11/dist-packages/urllib3/connectionpool.py:1097: InsecureRequestWarning: Unverified HTTPS request is being made to host 'genai.softnix.ai'. Adding certificate verification is strongly advised. See: https://urllib3.readthedocs.io/en/latest/advanced-usage.html#tls-warnings\n",
            "  warnings.warn(\n"
          ]
        }
      ],
      "source": [
        "import requests\n",
        "\n",
        "bearer_token = \"xxxxxx\"  # Replace with your actual API key\n",
        "url = \"https://genai.softnix.ai/external/api/chat-messages\"\n",
        "payload = {\n",
        "  \"query\": \"หนังสือเรียนภาษาไทยเหลืออยู่กี่เล่ม\",\n",
        "  \"inputs\": {},\n",
        "  \"citation\": True,\n",
        "  \"response_mode\": \"blocking\"\n",
        "}\n",
        "headers = {\n",
        "  \"Content-Type\": \"application/json\",\n",
        "  \"Authorization\": f\"Bearer {bearer_token}\"\n",
        "}\n",
        "response = requests.post(url, json=payload, headers=headers, verify=False)"
      ]
    },
    {
      "cell_type": "code",
      "execution_count": 2,
      "metadata": {
        "colab": {
          "base_uri": "https://localhost:8080/"
        },
        "id": "ohhpJa9ELBY1",
        "outputId": "6d3dc1c0-bbe4-466e-85ca-3364dafc2ba5"
      },
      "outputs": [
        {
          "data": {
            "text/plain": [
              "{'event': 'message',\n",
              " 'mode': 'agentic',\n",
              " 'conversation_id': '6863a073f624968f12f8c8fa',\n",
              " 'message_id': '6863a07ef624968f12f8c8ff',\n",
              " 'model': 'gpt-4o-mini',\n",
              " 'startValues': [],\n",
              " 'answer': 'ในห้องสมุดมีหนังสือชื่อ \"หนังสือเรียนภาษาไทย\" ซึ่งเป็นหนังสือเรียนภาษาไทยระดับประถม จำนวน 15 เล่ม และมีความคิดเห็นว่า \"หนังสือดี เข้าใจง่าย\" ค่ะ หากคุณต้องการข้อมูลเพิ่มเติมเกี่ยวกับหนังสือเล่มนี้หรือหนังสืออื่น ๆ สามารถสอบถามได้เลยค่ะ!',\n",
              " 'citations': [{'document_name': 'tools',\n",
              "   'contents': [{'position': 1,\n",
              "     'score': 1,\n",
              "     'content': [{'tool_name': 'database',\n",
              "       'content': 'มีหนังสือชื่อ \"หนังสือเรียนภาษาไทย\" ซึ่งเป็นหนังสือเรียนภาษาไทยระดับประถม จำนวน 15 เล่มในห้องสมุด และมีความคิดเห็นว่า \"หนังสือดี เข้าใจง่าย\"',\n",
              "       'execute_time': '8.37 วินาที'}]}]}],\n",
              " 'apexchart': {},\n",
              " 'json': None}"
            ]
          },
          "execution_count": 2,
          "metadata": {},
          "output_type": "execute_result"
        }
      ],
      "source": [
        "response.json()"
      ]
    },
    {
      "cell_type": "code",
      "execution_count": 3,
      "metadata": {
        "colab": {
          "base_uri": "https://localhost:8080/"
        },
        "id": "5yp_uzZpLJei",
        "outputId": "b6f99514-54c3-46bc-cbf8-40d698ac4590"
      },
      "outputs": [
        {
          "name": "stdout",
          "output_type": "stream",
          "text": [
            "ในห้องสมุดมีหนังสือชื่อ \"หนังสือเรียนภาษาไทย\" ซึ่งเป็นหนังสือเรียนภาษาไทยระดับประถม จำนวน 15 เล่ม และมีความคิดเห็นว่า \"หนังสือดี เข้าใจง่าย\" ค่ะ หากคุณต้องการข้อมูลเพิ่มเติมเกี่ยวกับหนังสือเล่มนี้หรือหนังสืออื่น ๆ สามารถสอบถามได้เลยค่ะ!\n"
          ]
        }
      ],
      "source": [
        "print(response.json()[\"answer\"])"
      ]
    }
  ],
  "metadata": {
    "colab": {
      "provenance": []
    },
    "kernelspec": {
      "display_name": "Python 3",
      "name": "python3"
    },
    "language_info": {
      "name": "python"
    }
  },
  "nbformat": 4,
  "nbformat_minor": 0
}
